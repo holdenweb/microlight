{
 "cells": [
  {
   "cell_type": "code",
   "execution_count": 74,
   "metadata": {},
   "outputs": [],
   "source": [
    "%matplotlib inline\n",
    "import matplotlib.pyplot as plt"
   ]
  },
  {
   "cell_type": "code",
   "execution_count": 177,
   "metadata": {},
   "outputs": [],
   "source": [
    "#\n",
    "# Set various fundamental parameters\n",
    "#\n",
    "# Minimum change in ADC value before recomputing illumination target\n",
    "#\n",
    "D_DELTA = 0.01\n",
    "#\n",
    "# Lowest and highest possible ADC values, these values to be\n",
    "# determined by observation. The input is clamped within this\n",
    "# range to protect later computations.\n",
    "#\n",
    "ADC_LEVELS = 4096\n",
    "ADC_MIN = 250\n",
    "ADC_MAX = ADC_LEVELS - 250\n",
    "ADC_RANGE = ADC_MAX - ADC_MIN\n",
    "#\n",
    "# Number of increments when a new target is set\n",
    "#\n",
    "INCREMENTS = 20\n",
    "\n",
    "\n",
    "class DimmerLamp:\n",
    "    def __init__(self, pin):\n",
    "        self.pin = pin\n",
    "        self.adc = ADC(pin)\n",
    "        self.current = self.increment = self.target = self.ticks_left = 0\n",
    "        \n",
    "    @property\n",
    "    def demand(self):\n",
    "        \"Return current normalised demand value.\"\n",
    "        adc_val = 3280   # Read ADC value\n",
    "        if adc_val < ADC_MIN:\n",
    "            adc_val = ADC_MIN\n",
    "        if adc_val > ADC_MAX:\n",
    "            adc_val = ADC_MAX\n",
    "        return (adc_val - ADC_MIN) / ADC_RANGE\n",
    "    \n",
    "    def tick(self):\n",
    "        \"\"\"\n",
    "        Sample ADC input to set new target if necessary,\n",
    "        then increment current value towards target.\n",
    "        \"\"\"\n",
    "        if abs(self.target - self.demand) > D_DELTA:\n",
    "            self.target = self.demand\n",
    "            self.increment = (self.target - self.current) / INCREMENTS\n",
    "            self.ticks_left = INCREMENTS\n",
    "        if self.ticks_left:\n",
    "            self.ticks_left -= 1\n",
    "            self.current += self.increment\n",
    "        return self.current*64, int((self.current*64)**2)\n"
   ]
  },
  {
   "cell_type": "code",
   "execution_count": 178,
   "metadata": {},
   "outputs": [],
   "source": [
    "dl = DimmerLamp(2)"
   ]
  },
  {
   "cell_type": "code",
   "execution_count": 179,
   "metadata": {},
   "outputs": [],
   "source": [
    "ticks = [dl.tick() for i in range(30)]\n",
    "linear_out = [t[0] for t in ticks]\n",
    "control_out = [t[1] for t in ticks]"
   ]
  },
  {
   "cell_type": "code",
   "execution_count": 180,
   "metadata": {},
   "outputs": [
    {
     "data": {
      "text/plain": [
       "[<matplotlib.lines.Line2D at 0x11c3c6910>]"
      ]
     },
     "execution_count": 180,
     "metadata": {},
     "output_type": "execute_result"
    },
    {
     "data": {
      "image/png": "[encoded data removed]",
      "text/plain": [
       "<Figure size 432x288 with 1 Axes>"
      ]
     },
     "metadata": {
      "needs_background": "light"
     },
     "output_type": "display_data"
    }
   ],
   "source": [
    "plt.plot(range(30), [t*64 for t in linear_out], color='green')\n",
    "plt.plot(range(30), control_out, color='red')"
   ]
  },
  {
   "cell_type": "markdown",
   "metadata": {},
   "source": [
    "The following refactoring tries to improve readability by using\n",
    "more self-explanatory names. It also moves the computation of\n",
    "anything but the ADC reading values in the range $[0, 4095]$\n",
    "outside the `user_setting` property definition.\n",
    "\n",
    "This allows us to more easily mock the actual method with a test method that\n",
    "allows us to see how the lamp will react to posited user operations."
   ]
  },
  {
   "cell_type": "code",
   "execution_count": 313,
   "metadata": {},
   "outputs": [],
   "source": [
    "#\n",
    "# Set various fundamental parameters\n",
    "#\n",
    "# Minimum change in ADC value before recomputing illumination target\n",
    "#\n",
    "D_DELTA = 0.01\n",
    "#\n",
    "# Lowest and highest possible ADC values, these values to be\n",
    "# determined by observation. The input is clamped within this\n",
    "# range to protect later computations.\n",
    "#\n",
    "ADC_LEVELS = 4096\n",
    "ADC_MIN = 250\n",
    "ADC_MAX = ADC_LEVELS - 250\n",
    "ADC_RANGE = ADC_MAX - ADC_MIN\n",
    "#\n",
    "# Total time in mS to respond to a new target level.\n",
    "# This is a premature optimisation, since there is as\n",
    "# yet no evidence that a constant response time is\n",
    "# desirable.\n",
    "#\n",
    "RESPONSE_TIME = 2000\n",
    "#\n",
    "# Tick period in mS\n",
    "#\n",
    "TICK_PERIOD = 50\n",
    "#\n",
    "# Number of increments when a new target is set\n",
    "#\n",
    "INCREMENTS = 25\n",
    "\n",
    "\n",
    "class DimmerLamp:\n",
    "    def __init__(self, pin):\n",
    "        self.pin = pin\n",
    "        self.current_level = 0\n",
    "        self.level_delta = 0\n",
    "        self.target_level = 0\n",
    "        self.ticks_left = 0\n",
    "\n",
    "    @property\n",
    "    def user_setting(self):\n",
    "        \"Return current normalised demand value from user.\"\n",
    "        adc_val = 4095   # Read ADC value\n",
    "        if adc_val < ADC_MIN:\n",
    "            adc_val = ADC_MIN\n",
    "        if adc_val > ADC_MAX:\n",
    "            adc_val = ADC_MAX\n",
    "        return (adc_val - ADC_MIN) / ADC_RANGE\n",
    "\n",
    "    def tick(self):\n",
    "        \"\"\"\n",
    "        Sample ADC input to set new target if necessary,\n",
    "        then increment current value towards target.\n",
    "        \"\"\"\n",
    "        setting = self.user_setting\n",
    "        if abs(self.target_level - setting) > D_DELTA:\n",
    "            self.target_level = setting\n",
    "            self.level_delta = (self.target_level - self.current_level) / INCREMENTS\n",
    "            self.ticks_left = INCREMENTS\n",
    "        if self.ticks_left:\n",
    "            self.ticks_left -= 1\n",
    "            self.current_level += self.level_delta\n",
    "        return self.current_level\n"
   ]
  },
  {
   "cell_type": "markdown",
   "metadata": {},
   "source": [
    "This little bit of code lets us generate samples from the potentiometer.\n",
    "It's in a raw cell so the notebook doesn't try to execute it."
   ]
  },
  {
   "cell_type": "raw",
   "metadata": {},
   "source": [
    "import pyb\n",
    "from utime import sleep_ms\n",
    "adc = pyb.ADC(pyb.Pin.board.Y11)  # Establish ADC connection\n",
    "\n",
    "out = []\n",
    "for _ in range(200):\n",
    "    out.append(adc.read())\n",
    "    sleep_ms(100)\n",
    "print(out)\n"
   ]
  },
  {
   "cell_type": "code",
   "execution_count": 319,
   "metadata": {},
   "outputs": [],
   "source": [
    "dl = DimmerLamp(\"Mock for testing\")\n",
    "\n",
    "# periods = ((35, 4095), (35, 2047), (15,0), (22, 255), (22, 3071), (25, 4095), (50, 0))\n",
    "# # Emulate rotation of the dial and idle to allow completion\n",
    "# periods += tuple((50, x) for x in range(0, 4095, 256)) +((50, 4095), )\n",
    "# setting_values = [x for (n, x) in periods for _ in range(n)]\n",
    "setting_values = [207, 208, 208, 208, 208, 208, 209, 208, 208, 208, 209, 206, 212, 224, 339, 421, 537, 2085,\n",
    "                  3116, 3374, 3510, 3504, 3504, 3505, 3504, 3504, 4095, 4095, 4094, 4095, 4095, 4094, 4095,\n",
    "                  4093, 4089, 4095, 4093, 4095, 3959, 3799, 3617, 3458, 3270, 3074, 2880, 2652, 2410, 2096,\n",
    "                  1767, 1372, 905, 465, 5, 4, 4, 4, 3, 4, 4, 3, 3, 4, 4, 0, 4, 4, 4, 6, 3, 642, 1711, 1585,\n",
    "                  416, 285, 1646, 2174, 754, 679, 2118, 2743, 2674, 1805, 592, 135, 616, 2067, 2907, 2697,\n",
    "                  1509, 1137, 2745, 2218, 1594, 3135, 3833, 4095, 4095, 4095, 4095, 4094, 4094, 4094, 4079,\n",
    "                  4094, 4093, 3326, 2591, 1860, 1717, 1713, 1718, 1749, 1078, 500, 2, 3, 4, 3, 2, 4, 4, 114,\n",
    "                  575, 1080, 1611, 2216, 2782, 3163, 3458, 3685, 3795, 3797, 3800, 3796, 3796, 3717, 3565,\n",
    "                  3337, 2972, 2451, 1879, 1423, 941, 749, 734, 641, 705, 1081, 1496, 1839, 2208, 2477, 2717,\n",
    "                  3083, 3419, 3684, 3858, 3972, 4042, 4094, 4095, 4046, 3939, 3834, 3742, 3647, 3567, 3497,\n",
    "                  3433, 3364, 3255, 3140, 3039, 2947, 2856, 2738, 2608, 2518, 2411, 2232, 2067, 1935, 1811,\n",
    "                  1694, 1557, 1451, 1350, 1254, 1157, 1139, 1197, 1304, 1379, 1468, 1556, 1630, 1694, 1738,\n",
    "                  1798, 1874]\n",
    "\n",
    "[\n",
    "    2966, 2966, 2965, 2966, 2967, 2966, 2967, 2967, 2967, 2967, 2967, 2967, 2967, 2967, 2966, 2966, 2966, 2966,\n",
    "    2966, 2966, 2966, 2965, 2967, 2965, 2966, 2966, 2966, 2964, 2966, 2965, 2992, 2971, 3137, 3679, 4094, 4093,\n",
    "    4095, 4095, 4095, 4093, 4095, 4029, 3282, 2668, 1985, 1373, 1012, 805, 785, 788, 735, 433, 4, 8, 3, 2, 4,\n",
    "    3, 4, 4, 92, 485, 865, 1432, 2048, 2666, 3156, 3589, 3859, 4094, 4094, 4095, 4095, 4095, 4095, 4095, 4095,\n",
    "    4095, 4031, 3709, 3358, 2935, 2489, 1962, 1582, 1119, 711, 433, 190, 2, 2, 4, 4, 4, 4, 3, 4, 3, 4, 2, 3,\n",
    "    4, 4, 4, 0, 3, 3, 0, 3, 4, 3, 4, 4, 4, 4, 55, 114, 165, 217, 273, 304, 350, 398, 430, 456, 507, 533, 556,\n",
    "    598, 627, 665, 818, 1751, 2972, 3204, 2955, 1670, 512, 504, 2146, 3234, 3612, 2859, 1243, 286, 3, 4, 4,\n",
    "    4, 2, 3, 4, 4, 4, 5, 3, 4, 76, 291, 421, 520, 664, 807, 947, 1054, 1149, 1245, 1354, 1458, 1584, 1753, 1930,\n",
    "    2058, 2212, 2361, 2456, 2517, 2586, 2677, 2775, 2893, 2972, 3025, 3034, 2989, 2868, 2751, 2636, 2490, 2335,\n",
    "    2189, 2040, 1940, 1846, 1729, 1641, 1560, 1486, 1410, 1323\n",
    "]\n",
    "setting_value = iter(setting_values)\n",
    "\n",
    "@property\n",
    "def mock_setting(s):\n",
    "    return next(setting_value)\n",
    "\n",
    "DimmerLamp.user_setting = mock_setting"
   ]
  },
  {
   "cell_type": "code",
   "execution_count": 320,
   "metadata": {},
   "outputs": [
    {
     "name": "stdout",
     "output_type": "stream",
     "text": [
      "Tick count: 200\n"
     ]
    }
   ],
   "source": [
    "print(f\"Tick count: {len(setting_values)}\")\n",
    "light_settings = [dl.tick() for _ in setting_values]"
   ]
  },
  {
   "cell_type": "code",
   "execution_count": 321,
   "metadata": {},
   "outputs": [
    {
     "data": {
      "text/plain": [
       "[<matplotlib.lines.Line2D at 0x11d628410>]"
      ]
     },
     "execution_count": 321,
     "metadata": {},
     "output_type": "execute_result"
    },
    {
     "data": {
      "image/png": "[encoded data removed]",
      "text/plain": [
       "<Figure size 432x288 with 1 Axes>"
      ]
     },
     "metadata": {
      "needs_background": "light"
     },
     "output_type": "display_data"
    }
   ],
   "source": [
    "plt.plot(light_settings)"
   ]
  },
  {
   "cell_type": "code",
   "execution_count": 322,
   "metadata": {},
   "outputs": [],
   "source": [
    "for t in enumerate(tick_value):\n",
    "    print(t)"
   ]
  },
  {
   "cell_type": "markdown",
   "metadata": {},
   "source": [
    "This refactoring gets stored to a file that can be transferred to a PyBoard using only filestore!\n",
    "Finally we can get to testing the real device."
   ]
  },
  {
   "cell_type": "code",
   "execution_count": 308,
   "metadata": {},
   "outputs": [
    {
     "ename": "ModuleNotFoundError",
     "evalue": "No module named 'pyb'",
     "output_type": "error",
     "traceback": [
      "\u001b[0;31m---------------------------------------------------------------------------\u001b[0m",
      "\u001b[0;31mModuleNotFoundError\u001b[0m                       Traceback (most recent call last)",
      "\u001b[0;32m<ipython-input-308-0371cd2e4c31>\u001b[0m in \u001b[0;36m<module>\u001b[0;34m\u001b[0m\n\u001b[0;32m----> 1\u001b[0;31m \u001b[0;32mimport\u001b[0m \u001b[0mpyb\u001b[0m\u001b[0;34m\u001b[0m\u001b[0;34m\u001b[0m\u001b[0m\n\u001b[0m\u001b[1;32m      2\u001b[0m \u001b[0;31m#\u001b[0m\u001b[0;34m\u001b[0m\u001b[0;34m\u001b[0m\u001b[0;34m\u001b[0m\u001b[0m\n\u001b[1;32m      3\u001b[0m \u001b[0;31m# Set various fundamental parameters\u001b[0m\u001b[0;34m\u001b[0m\u001b[0;34m\u001b[0m\u001b[0;34m\u001b[0m\u001b[0m\n\u001b[1;32m      4\u001b[0m \u001b[0;31m#\u001b[0m\u001b[0;34m\u001b[0m\u001b[0;34m\u001b[0m\u001b[0;34m\u001b[0m\u001b[0m\n\u001b[1;32m      5\u001b[0m \u001b[0;31m# Minimum change in ADC value before recomputing illumination target\u001b[0m\u001b[0;34m\u001b[0m\u001b[0;34m\u001b[0m\u001b[0;34m\u001b[0m\u001b[0m\n",
      "\u001b[0;31mModuleNotFoundError\u001b[0m: No module named 'pyb'"
     ]
    }
   ],
   "source": [
    "import pyb\n",
    "#\n",
    "# Set various fundamental parameters\n",
    "#\n",
    "# Minimum change in ADC value before recomputing illumination target\n",
    "#\n",
    "D_DELTA = 0.01\n",
    "#\n",
    "# Lowest and highest possible ADC values, these values to be\n",
    "# determined by observation. The input is clamped within this\n",
    "# range to protect later computations.\n",
    "#\n",
    "ADC_LEVELS = 4096\n",
    "ADC_MIN = 250\n",
    "ADC_MAX = ADC_LEVELS - 250\n",
    "ADC_RANGE = ADC_MAX - ADC_MIN\n",
    "#\n",
    "# Total time in mS to respond to a new target level.\n",
    "# This is a premature optimisation, since there is as\n",
    "# yet no evidence that a constant response time is\n",
    "# desirable.\n",
    "#\n",
    "RESPONSE_TIME = 2000\n",
    "#\n",
    "# Tick period in mS\n",
    "#\n",
    "TICK_PERIOD = 50\n",
    "#\n",
    "# Number of increments when a new target is set\n",
    "#\n",
    "INCREMENTS = 25\n",
    "\n",
    "#\n",
    "# Set up hardware\n",
    "#\n",
    "adc = pyb.ADC(pyb.Pin.board.Y11)  # Establish ADC connection\n",
    "\n",
    "class DimmerLamp:\n",
    "    def __init__(self, pin):\n",
    "        self.pin = pin\n",
    "        self.current_level = 0\n",
    "        self.level_delta = 0\n",
    "        self.target_level = 0\n",
    "        self.ticks_left = 0\n",
    "\n",
    "    @property\n",
    "    def user_setting(self):\n",
    "        \"Return current normalised demand value from user.\"\n",
    "        adc_val = adc.read()   # Read ADC value\n",
    "        if adc_val < ADC_MIN:\n",
    "            adc_val = ADC_MIN\n",
    "        if adc_val > ADC_MAX:\n",
    "            adc_val = ADC_MAX\n",
    "        return (adc_val - ADC_MIN) / ADC_RANGE\n",
    "\n",
    "    def tick(self):\n",
    "        \"\"\"\n",
    "        Sample ADC input to set new target if necessary,\n",
    "        then increment current value towards target.\n",
    "        \"\"\"\n",
    "        setting = self.user_setting\n",
    "        if abs(self.target_level - setting) > D_DELTA:\n",
    "            self.target_level = setting\n",
    "            self.level_delta = (self.target_level - self.current_level) / INCREMENTS\n",
    "            self.ticks_left = INCREMENTS\n",
    "        if self.ticks_left:\n",
    "            self.ticks_left -= 1\n",
    "            self.current_level += self.level_delta\n",
    "        return self.current_level\n"
   ]
  }
 ],
 "metadata": {
  "kernelspec": {
   "display_name": "Python 3",
   "language": "python",
   "name": "python3"
  },
  "language_info": {
   "codemirror_mode": {
    "name": "ipython",
    "version": 3
   },
   "file_extension": ".py",
   "mimetype": "text/x-python",
   "name": "python",
   "nbconvert_exporter": "python",
   "pygments_lexer": "ipython3",
   "version": "3.7.7"
  }
 },
 "nbformat": 4,
 "nbformat_minor": 4
}
