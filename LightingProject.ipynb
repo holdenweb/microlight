{
 "cells": [
  {
   "cell_type": "code",
   "execution_count": null,
   "metadata": {},
   "outputs": [],
   "source": [
    "%matplotlib inline"
   ]
  },
  {
   "cell_type": "code",
   "execution_count": null,
   "metadata": {},
   "outputs": [],
   "source": [
    "import matplotlib.pyplot as plt\n",
    "import numpy as np\n",
    "\n",
    "def curve(x, RV, R1, R2):\n",
    "    Rv = RV * x\n",
    "    return (1024*(Rv+R2)/(R1+Rv+R2)).astype(int) # ADC units\n",
    "\n",
    "def inverse_curve(y, RV, R1, R2):\n",
    "    Rv = y * RV\n",
    "    return (R2 - y*(R2-R1)/(y-1)*Rv)/1024\n",
    "\n",
    "def chart(x, xlabel, ylabel, func, RV, R1, R2):\n",
    "    y = func(x, RV, R1, R2)\n",
    "    plt.plot(phi, y, col, label=str(RV))\n",
    "    plt.ylabel(ylabel)\n",
    "    plt.xlabel(xlabel)\n",
    "\n",
    "x = range(270)\n",
    "phi = np.linspace(0, 1, num=len(x))\n",
    "\n",
    "for RV, col in zip((2500, 5000, 7500, 10000, 15000, 25000), \"rgbcmky\"):\n",
    "    chart(phi, 'Angle of rotation', 'ADC reading', curve, RV, 10000, 2200)\n",
    "\n",
    "plt.legend()\n",
    "plt.show()"
   ]
  },
  {
   "cell_type": "markdown",
   "metadata": {},
   "source": [
    "This indicates quite well why the majority of the control is achieved in the early part of the potentiometer travel. In the first 50 degrees the voltage reading changes by 350+ units, (7 units per degree) while the remaining 220 degrees change it less than 150 (roughly 2/3 unit per degree of travel). Clearly any solution that decreases the non-linearity will be of assistance, and so lower values of $R_v$ should be preferred."
   ]
  },
  {
   "cell_type": "markdown",
   "metadata": {},
   "source": [
    "Expressing the voltage $Y$ as a function of $x$, the angle of rotation, we have\n",
    "\n",
    "$$\\begin{align}y &= \\frac{R_2+R_v x}{R_1 + R_2 + R_v x}\\\\y (R_1 + R_2 + R_v x) &= (R_2 + R_v x)\\\\y R_1 + y R_2 + y R_v x &= R_2 + R_v x\\\\y R_v x - R_v x &= R_2  - yR_2 - yR_1\\\\(y-1)R_v x &= R_2  - y (R_2 - R_1)\\\\x &= \\frac {R_2  - y (R_2 - R_1)}{(y - 1)R_v}\\end{align}$$"
   ]
  },
  {
   "cell_type": "code",
   "execution_count": null,
   "metadata": {},
   "outputs": [],
   "source": [
    "def inverse_curve(y, RV, R1, R2):\n",
    "    Rv = y * RV\n",
    "    return (R2 - y*(R2-R1)/(y-1)*Rv)/1024\n",
    "\n",
    "for RV, col in zip((2500, 5000, 7500, 10000, 15000, 25000), \"rgbcmky\"):\n",
    "    phi = np.linspace(0, 1, num=len(x))\n",
    "    y = curve(phi, RV, 10000, 2200)\n",
    "    phi = np.linspace(min(y), max(y), num=len(x))\n",
    "    chart(phi, \"ADC Reading\", \"Desired level\", inverse_curve, RV, 1000, 270)\n",
    "\n",
    "plt.legend()\n",
    "plt.show()"
   ]
  },
  {
   "cell_type": "markdown",
   "metadata": {},
   "source": [
    "A beautifully linear plot indicates we have indeed found the correct inverse. But what on Earth are the units for \"desired level\"?"
   ]
  },
  {
   "cell_type": "code",
   "execution_count": null,
   "metadata": {},
   "outputs": [],
   "source": [
    "#\n",
    "# Duplicate for refactoring\n",
    "#\n",
    "import matplotlib.pyplot as plt\n",
    "import numpy as np\n",
    "\n",
    "def do_it_for(RV, R1, R2, col):\n",
    "\n",
    "    def curve(x):\n",
    "        return (1024*(RVs+R2)/(R1+RVs+R2)).astype(int) # ADC units\n",
    "\n",
    "    def inverse_curve(y):\n",
    "        return (R2 - y*(R2-R1)/(y-1)*RVs)/1024\n",
    "\n",
    "    def compensated(x):\n",
    "        return inverse_curve(curve(x))\n",
    "\n",
    "    def chart(x, label, func):\n",
    "        y = func(x)\n",
    "        plt.plot(phi, y, col, label=str(RV))\n",
    "        plt.ylabel(label)\n",
    "        plt.xlabel('Angle of rotation')\n",
    "\n",
    "    x = range(32)\n",
    "    \n",
    "    phi = np.linspace(0, 1, num=len(x))\n",
    "    RVs = RV*phi\n",
    "    \n",
    "#    chart(phi, 'ADC reading', curve)\n",
    "#    chart(phi, 'Compensation function', inverse_curve)\n",
    "#    chart(phi, 'Compensated light demand', compensated)\n",
    "#    chart(phi, \"Test graphic\", lambda x: x)\n",
    "    chart(curve(RVs), 'Who knows', inverse_curve)\n",
    "    plt.legend()"
   ]
  },
  {
   "cell_type": "code",
   "execution_count": null,
   "metadata": {},
   "outputs": [],
   "source": [
    "for RV, col in zip((25, 50, 75, 100, 150, 250, 500), \"rgbcmk\"):\n",
    "    do_it_for(RV, 10, 2.2, col)\n",
    "plt.show()"
   ]
  },
  {
   "cell_type": "code",
   "execution_count": null,
   "metadata": {},
   "outputs": [],
   "source": [
    "#\n",
    "# Duplicate for refactoring\n",
    "#\n",
    "import matplotlib.pyplot as plt\n",
    "import numpy as np\n",
    "\n",
    "def do_it_for(RV, R1, R2, col):\n",
    "\n",
    "    def curve(x):\n",
    "        return (1024*(RVs+R2)/(R1+RVs+R2)).astype(int) # ADC units\n",
    "\n",
    "    def inverse_curve(y):\n",
    "        return (R2 - y*(R2-R1)/(y-1)*RVs)/1024\n",
    "\n",
    "    def compensated(x):\n",
    "        return inverse_curve(curve(x))\n",
    "\n",
    "    def chart(x, label, func):\n",
    "        y = func(x)\n",
    "        plt.plot(phi, y, col, label=str(RV))\n",
    "        plt.ylabel(label)\n",
    "        plt.xlabel('Angle of rotation')\n",
    "\n",
    "    x = range(16)\n",
    "    \n",
    "    phi = np.linspace(0, 1, num=len(x))\n",
    "    RVs = RV*phi\n",
    "    \n",
    "#    chart(phi, 'ADC reading', curve)\n",
    "    chart(phi, 'Compensation function', inverse_curve)\n",
    "#    chart(phi, 'Compensated light demand', compensated)\n",
    "#    chart(phi, \"Test graphic\", lambda x: x)\n",
    "    chart(RVs, 'Who knows', curve)\n",
    "    plt.legend()"
   ]
  },
  {
   "cell_type": "code",
   "execution_count": null,
   "metadata": {},
   "outputs": [],
   "source": [
    "do_it_for(100, 10, 2.2, col)"
   ]
  },
  {
   "cell_type": "code",
   "execution_count": null,
   "metadata": {},
   "outputs": [],
   "source": [
    "y = np.array(range(200, 1000))\n",
    "RV, R1, R2 = 100_000, 10_000, 2_200\n",
    "\n",
    "def inverse_curve(y):\n",
    "    return (R2 - y*(R2-R1)/((y-1)*RV))/1024"
   ]
  },
  {
   "cell_type": "code",
   "execution_count": null,
   "metadata": {},
   "outputs": [],
   "source": [
    "inv = inverse_curve(y)\n",
    "plt.plot(y, inv, 'blue', label='Special')\n",
    "plt.ylabel('Y label')\n",
    "plt.xlabel('ADC reading')\n",
    "plt.show()"
   ]
  },
  {
   "cell_type": "code",
   "execution_count": null,
   "metadata": {},
   "outputs": [],
   "source": [
    "max(inv), min(inv), max(inv)-min(inv)"
   ]
  },
  {
   "cell_type": "code",
   "execution_count": null,
   "metadata": {},
   "outputs": [],
   "source": []
  }
 ],
 "metadata": {
  "kernelspec": {
   "display_name": "Python 3",
   "language": "python",
   "name": "python3"
  },
  "language_info": {
   "codemirror_mode": {
    "name": "ipython",
    "version": 3
   },
   "file_extension": ".py",
   "mimetype": "text/x-python",
   "name": "python",
   "nbconvert_exporter": "python",
   "pygments_lexer": "ipython3",
   "version": "3.6.5"
  }
 },
 "nbformat": 4,
 "nbformat_minor": 2
}
